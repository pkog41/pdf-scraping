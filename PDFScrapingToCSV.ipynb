{
 "cells": [
  {
   "cell_type": "code",
   "execution_count": 3,
   "metadata": {},
   "outputs": [
    {
     "name": "stdout",
     "output_type": "stream",
     "text": [
      "Collecting pdfplumber\n",
      "  Downloading pdfplumber-0.5.28.tar.gz (45 kB)\n",
      "\u001b[K     |████████████████████████████████| 45 kB 694 kB/s eta 0:00:011\n",
      "\u001b[?25hCollecting pdfminer.six==20200517\n",
      "  Downloading pdfminer.six-20200517-py3-none-any.whl (5.6 MB)\n",
      "\u001b[K     |████████████████████████████████| 5.6 MB 2.1 MB/s eta 0:00:01\n",
      "\u001b[?25hRequirement already satisfied: Pillow>=7.0.0 in /Users/PatO/opt/anaconda3/lib/python3.7/site-packages (from pdfplumber) (7.0.0)\n",
      "Collecting Wand\n",
      "  Downloading Wand-0.6.6-py2.py3-none-any.whl (138 kB)\n",
      "\u001b[K     |████████████████████████████████| 138 kB 17.4 MB/s eta 0:00:01\n",
      "\u001b[?25hCollecting pycryptodome\n",
      "  Downloading pycryptodome-3.10.1-cp35-abi3-macosx_10_9_x86_64.whl (1.5 MB)\n",
      "\u001b[K     |████████████████████████████████| 1.5 MB 32.8 MB/s eta 0:00:01\n",
      "\u001b[?25hRequirement already satisfied: sortedcontainers in /Users/PatO/opt/anaconda3/lib/python3.7/site-packages (from pdfminer.six==20200517->pdfplumber) (2.1.0)\n",
      "Requirement already satisfied: chardet; python_version > \"3.0\" in /Users/PatO/opt/anaconda3/lib/python3.7/site-packages (from pdfminer.six==20200517->pdfplumber) (3.0.4)\n",
      "Building wheels for collected packages: pdfplumber\n",
      "  Building wheel for pdfplumber (setup.py) ... \u001b[?25ldone\n",
      "\u001b[?25h  Created wheel for pdfplumber: filename=pdfplumber-0.5.28-py3-none-any.whl size=32221 sha256=792a72cafe6a8c990c1e9faa2eb544cced6951b2be0e019c3ccad7b76b37abfc\n",
      "  Stored in directory: /Users/PatO/Library/Caches/pip/wheels/f2/b1/a0/c0a77b756d580f53b3806ae0e0b3ec945a8d05fca1d6e10cc1\n",
      "Successfully built pdfplumber\n",
      "Installing collected packages: pycryptodome, pdfminer.six, Wand, pdfplumber\n",
      "Successfully installed Wand-0.6.6 pdfminer.six-20200517 pdfplumber-0.5.28 pycryptodome-3.10.1\n",
      "Note: you may need to restart the kernel to use updated packages.\n"
     ]
    }
   ],
   "source": [
    "pip install pdfplumber"
   ]
  },
  {
   "cell_type": "code",
   "execution_count": 4,
   "metadata": {},
   "outputs": [],
   "source": [
    "import re\n",
    "import pdfplumber\n",
    "import pandas as pd\n",
    "from collections import namedtuple"
   ]
  },
  {
   "cell_type": "code",
   "execution_count": 6,
   "metadata": {},
   "outputs": [],
   "source": [
    "Line = namedtuple('line','Employee_Name Employer_ABN Hourly_Rate Ordinary_Rate_Hours Bonus Gross_Payment Tax Other_Deductions Net_Payment')"
   ]
  },
  {
   "cell_type": "code",
   "execution_count": 29,
   "metadata": {},
   "outputs": [],
   "source": [
    "employee_re = re.compile(r'name: (.*) __ ')\n",
    "line_re = re.compile(r'\\d{8}')"
   ]
  },
  {
   "cell_type": "code",
   "execution_count": 19,
   "metadata": {},
   "outputs": [],
   "source": [
    "file = '/Users/PatO/Desktop/Printable Payslip1.pdf'"
   ]
  },
  {
   "cell_type": "code",
   "execution_count": 27,
   "metadata": {},
   "outputs": [
    {
     "name": "stdout",
     "output_type": "stream",
     "text": [
      "{Insert Logo} \n",
      "PAY SLIP \n",
      "    Date of Payment:  ____/____/_______ \n",
      "Pay Period:  ____/____/_______  to  ____/____/_______ \n",
      "       \n",
      "Employee’s name:  JIM \n",
      "Employer’s name:  AMEC \n",
      "Employer’s ABN (if any):   \n",
      "Classification/Job Title under the Award(s)/Agreement(s):   \n",
      "Name of Award(s)/Agreement(s):   \n",
      "Ordinary hourly rate:  $25  and/or annual rate (salary):  $ \n",
      " \n",
      " \n",
      "Wages        \n",
      "Ordinary Rate  .8… hrs   @ (rate) …………  $............ . ... \n",
      "Penalty rate 1  Type: (e.g. Saturday / evening rate)  ..…… hrs   @ (rate) …………  $............ . ... \n",
      "Penalty rate 2  Type: (e.g. public holiday rate)  ..…… hrs   @ (rate) …………  $............ . ... \n",
      "Overtime   ..…… hrs  @ (rate) …………  $............ . ... \n",
      "Shift loading   ..…… hrs  @ (rate) …………  $............ . ... \n",
      "Other loading   Type:  ..…… hrs  @ (rate) …………  $............ . ... \n",
      "Additional Lump Sum Payments \n",
      "Incentive-based payment   Type:   $............ . ... \n",
      "Bonus   Type:   $............ . ... \n",
      "Other payments  Type:  $............ . ... \n",
      "Termination entitlements  Details: (including notice, redundancy, accrued leave, etc)*   $............ . ... \n",
      "GROSS PAYMENT   $......250......... \n",
      "Deductions \n",
      "Taxation   $.........26. . ... \n",
      "Other deduction   Purpose:     [Account/Fund name]   \n",
      "(e.g. salary sacrifice)  (or name and number):  $........... . ... \n",
      "Total deductions   $.................. \n",
      "NET PAYMENT   $......28.......... \n",
      "Employer Superannuation Contribution \n",
      "Name of Fund/Scheme    Contribution:  $............ . ... \n",
      "       \n",
      " \n",
      " \n",
      "Note: Pay slips must be issued to employees within one working day of the day they are paid. \n",
      "{Insert Logo} \n",
      "PAY SLIP \n",
      "    Date of Payment:  ____/____/_______ \n",
      "Pay Period:  ____/____/_______  to  ____/____/_______ \n",
      "       \n",
      "Employee’s name:  JIM \n",
      "Employer’s name:  AMEC \n",
      "Employer’s ABN (if any):   \n",
      "Classification/Job Title under the Award(s)/Agreement(s):   \n",
      "Name of Award(s)/Agreement(s):   \n",
      "Ordinary hourly rate:  $27  and/or annual rate (salary):  $ \n",
      " \n",
      " \n",
      "Wages        \n",
      "Ordinary Rate  … hrs   @ (rate) …………  $............ . ... \n",
      "Penalty rate 1  Type: (e.g. Saturday / evening rate)  ..…… hrs   @ (rate) …………  $............ . ... \n",
      "Penalty rate 2  Type: (e.g. public holiday rate)  ..…… hrs   @ (rate) …………  $............ . ... \n",
      "Overtime   ..…… hrs  @ (rate) …………  $............ . ... \n",
      "Shift loading   ..…… hrs  @ (rate) …………  $............ . ... \n",
      "Other loading   Type:  ..…… hrs  @ (rate) …………  $............ . ... \n",
      "Additional Lump Sum Payments \n",
      "Incentive-based payment   Type:   $............ . ... \n",
      "Bonus   Type:   $............ . ... \n",
      "Other payments  Type:  $............ . ... \n",
      "Termination entitlements  Details: (including notice, redundancy, accrued leave, etc)*   $............ . ... \n",
      "GROSS PAYMENT   $......240......... \n",
      "Deductions \n",
      "Taxation   $.........25. . ... \n",
      "Other deduction   Purpose:     [Account/Fund name]   \n",
      "(e.g. salary sacrifice)  (or name and number):  $........... . ... \n",
      "Total deductions   $.................. \n",
      "NET PAYMENT   $......26.......... \n",
      "Employer Superannuation Contribution \n",
      "Name of Fund/Scheme    Contribution:  $............ . ... \n",
      "       \n",
      " \n",
      " \n",
      "Note: Pay slips must be issued to employees within one working day of the day they are paid. \n"
     ]
    }
   ],
   "source": [
    "lines = []\n",
    "total_check = 0\n",
    "\n",
    "with pdfplumber.open(file) as pdf:\n",
    "    pages = pdf.pages\n",
    "    for page in pdf.pages:\n",
    "        text = page.extract_text()\n",
    "        for line in text.split('\\n'):\n",
    "            print(line)\n",
    "            empl = employee_re.search(line)\n",
    "            if empl:\n",
    "                employee_name = empl.group(1)\n",
    "                \n",
    "            elif line_re.search(line):\n",
    "                items = line.split()\n",
    "                lines.append(Line(employee_name, *items))\n"
   ]
  },
  {
   "cell_type": "code",
   "execution_count": 30,
   "metadata": {},
   "outputs": [
    {
     "data": {
      "text/html": [
       "<div>\n",
       "<style scoped>\n",
       "    .dataframe tbody tr th:only-of-type {\n",
       "        vertical-align: middle;\n",
       "    }\n",
       "\n",
       "    .dataframe tbody tr th {\n",
       "        vertical-align: top;\n",
       "    }\n",
       "\n",
       "    .dataframe thead th {\n",
       "        text-align: right;\n",
       "    }\n",
       "</style>\n",
       "<table border=\"1\" class=\"dataframe\">\n",
       "  <thead>\n",
       "    <tr style=\"text-align: right;\">\n",
       "      <th></th>\n",
       "    </tr>\n",
       "  </thead>\n",
       "  <tbody>\n",
       "  </tbody>\n",
       "</table>\n",
       "</div>"
      ],
      "text/plain": [
       "Empty DataFrame\n",
       "Columns: []\n",
       "Index: []"
      ]
     },
     "execution_count": 30,
     "metadata": {},
     "output_type": "execute_result"
    }
   ],
   "source": [
    "df = pd.DataFrame(lines)\n",
    "df.head()"
   ]
  },
  {
   "cell_type": "code",
   "execution_count": 31,
   "metadata": {},
   "outputs": [
    {
     "data": {
      "text/plain": [
       "<bound method DataFrame.info of Empty DataFrame\n",
       "Columns: []\n",
       "Index: []>"
      ]
     },
     "execution_count": 31,
     "metadata": {},
     "output_type": "execute_result"
    }
   ],
   "source": [
    "df.info"
   ]
  },
  {
   "cell_type": "code",
   "execution_count": null,
   "metadata": {},
   "outputs": [],
   "source": []
  }
 ],
 "metadata": {
  "kernelspec": {
   "display_name": "Python 3",
   "language": "python",
   "name": "python3"
  },
  "language_info": {
   "codemirror_mode": {
    "name": "ipython",
    "version": 3
   },
   "file_extension": ".py",
   "mimetype": "text/x-python",
   "name": "python",
   "nbconvert_exporter": "python",
   "pygments_lexer": "ipython3",
   "version": "3.7.6"
  }
 },
 "nbformat": 4,
 "nbformat_minor": 4
}
