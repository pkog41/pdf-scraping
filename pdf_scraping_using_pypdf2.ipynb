{
 "cells": [
  {
   "cell_type": "code",
   "execution_count": 3,
   "metadata": {},
   "outputs": [
    {
     "name": "stdout",
     "output_type": "stream",
     "text": [
      "Collecting package metadata (current_repodata.json): done\n",
      "Solving environment: done\n",
      "\n",
      "## Package Plan ##\n",
      "\n",
      "  environment location: /Users/PatO/opt/anaconda3\n",
      "\n",
      "  added / updated specs:\n",
      "    - pypdf2\n",
      "\n",
      "\n",
      "The following packages will be downloaded:\n",
      "\n",
      "    package                    |            build\n",
      "    ---------------------------|-----------------\n",
      "    pypdf2-1.26.0              |             py_2          48 KB  scw\n",
      "    ------------------------------------------------------------\n",
      "                                           Total:          48 KB\n",
      "\n",
      "The following NEW packages will be INSTALLED:\n",
      "\n",
      "  pypdf2             scw/noarch::pypdf2-1.26.0-py_2\n",
      "\n",
      "\n",
      "\n",
      "Downloading and Extracting Packages\n",
      "pypdf2-1.26.0        | 48 KB     | ##################################### | 100% \n",
      "Preparing transaction: done\n",
      "Verifying transaction: done\n",
      "Executing transaction: done\n",
      "\n",
      "Note: you may need to restart the kernel to use updated packages.\n"
     ]
    }
   ],
   "source": [
    "conda install -c scw pypdf2"
   ]
  },
  {
   "cell_type": "code",
   "execution_count": 3,
   "metadata": {},
   "outputs": [],
   "source": [
    "import PyPDF2 as p"
   ]
  },
  {
   "cell_type": "code",
   "execution_count": 7,
   "metadata": {},
   "outputs": [],
   "source": [
    "file = open(\"/Users/PatO/Desktop/Printable Payslip.pdf\", \"rb\")"
   ]
  },
  {
   "cell_type": "code",
   "execution_count": 16,
   "metadata": {},
   "outputs": [
    {
     "name": "stdout",
     "output_type": "stream",
     "text": [
      "!\"#$%&'()*+*,\n",
      "(PAY SLIP\n",
      " !!!\"#$%&'%(\")*$+#,\n",
      "%----.----.-------\n",
      "%(\")%($/0&1,\n",
      "%----.----.-------\n",
      "%#&%----.----.-------\n",
      "%%%%%2*34&)$$56%+\"*$,\n",
      "%%2*34&)$/56%+\"*$,\n",
      "%%2*34&)$/56%789%:0'%\"+);,\n",
      "%%<4\"660'0=\"#0&+.>&?%@0#4$%A+1$/%#B$%7C\"/1:6;.7D/$$*$+#:6;,\n",
      "%%9\"*$%&'%7C\"/1:6;.7D/$$*$+#:\n",
      "6;,%%E/10+\"/)%B&A/4)%/\"#$,\n",
      "%F%\"+1.&/%\"++A\"4%/\"#$%:6\"4\"/);,\n",
      "%F%%%\"#$%&!\n",
      "!!!!E/10+\"/)%G\"#$\n",
      "%HHII%B/6%\n",
      "%J%:/\"#$;%IIII\n",
      "%FHHHHHHHHHHHH%H%HHH\n",
      "%($+\"4#)%/\"#$%K\n",
      "%@)3$,%\n",
      "!\"#$#%&'()*+',%-%\".\"/0/$%*'(\"1\n",
      "%HHII%B/6%\n",
      "%J%:/\"#$;%IIII\n",
      "%FHHHHHHHHHHHH%H%HHH\n",
      "%($+\"4#)%/\"#$%L\n",
      "%@)3$,%\n",
      "!\"#$\n",
      "#%2)3405%6740+',%*'(\"1\n",
      "%HHII%B/6%\n",
      "%J%:/\"#$;%IIII\n",
      "%FHHHHHHHHHHHH%H%HHH\n",
      "%EM$/#0*$%\n",
      "%HHII%B/6\n",
      "%J%:/\"#$;%IIII\n",
      "%FHHHHHHHHHHHH%H%HHH\n",
      "%NB0'#%4&\"10+D%\n",
      "%HHII%B/6\n",
      "%J%:/\"#$;%IIII\n",
      "%FHHHHHHHHHHHH%H%HHH\n",
      "%E#B$/%4&\"10+D%\n",
      "%@)3$,\n",
      "%HHII%B/6\n",
      "%J%:/\"#$;%IIII\n",
      "%FHHHHHHHHHHHH%H%HHH\n",
      "%'(()*)+,#-\n",
      "!./01!2/0!3#40%,*&\n",
      "!O+=$+#0M$\n",
      "P?\"6$1%3\")*$+#%\n",
      "%@)3$,%\n",
      "%FHHHHHHHHHHHH%H%HHH\n",
      "%8&+A6%\n",
      "%@)3$,%\n",
      "%FHHHHHHHHHHHH%H%HHH\n",
      "%E#B$/%3\")*$+#6\n",
      "%@)3$,\n",
      "%FHHHHHHHHHHHH%H%HHH\n",
      "%@$/*0+\"#0&+%$+#0#4$*$+#6\n",
      "%!$#\"046,%\n",
      "!\"#$%&'\"#()#*+\"$,-).,'&#'/#$0-)/$$.&,')%,/1,-),+$23\n",
      "%%FHHHHHHHHHHHH%H%HHH\n",
      "%56722!3'89:;<\n",
      "!!=>>>>>>>>>>>>>>>>>>\n",
      "!?%(/@*)+,&\n",
      "!@\"Q\"#0&+%\n",
      "%FHHHHHHHHHHHH%H%HHH\n",
      "%E#B$/%1$1A=#0&+%\n",
      "%(A/3&6$,\n",
      "%%!\"#$#%8'4'*,%8'5*0905\"1\n",
      "%%R7==&A+#.SA+1%+\"*$T\n",
      "%!*.)#/4,)/#')#&45,.2\n",
      "6%%FHHHHHHHHHHH%H%HHH\n",
      "%@&#\"4%1$1A=#0&+6%\n",
      "%FHHHHHHHHHHHHHHHHHH\n",
      "%;:<!3'89:;<\n",
      "!!=>>>>>>>\n",
      ">>>>>>>>>>>!:01-+4%A!2/1%A#,,/#*)+,!B+,*A)C/*)+,\n",
      "!9\"*$%&'%SA+1.N=B$*$\n",
      "%%<&+#/0?A#0&+,\n",
      "%FHHHHHHHHHHHH%H%HHH\n",
      "%!!!!!!;+*%D\n",
      "%(\")\n",
      "%64036%*A6#%?$%066A$1%#&%$*34&)$$6%C0#B0+%&+$%\n",
      "C&/U0+D%1\")\n",
      "%&'%#B$%1\")%#B$)%\"/$%3\"01\n",
      "H%\n"
     ]
    }
   ],
   "source": [
    "pd = p.PdfFileReader (file)\n",
    "\n",
    "x = pd.getPage(0)\n",
    "\n",
    "print(x.extractText())"
   ]
  },
  {
   "cell_type": "code",
   "execution_count": null,
   "metadata": {},
   "outputs": [],
   "source": []
  }
 ],
 "metadata": {
  "kernelspec": {
   "display_name": "Python 3",
   "language": "python",
   "name": "python3"
  },
  "language_info": {
   "codemirror_mode": {
    "name": "ipython",
    "version": 3
   },
   "file_extension": ".py",
   "mimetype": "text/x-python",
   "name": "python",
   "nbconvert_exporter": "python",
   "pygments_lexer": "ipython3",
   "version": "3.7.6"
  }
 },
 "nbformat": 4,
 "nbformat_minor": 4
}
